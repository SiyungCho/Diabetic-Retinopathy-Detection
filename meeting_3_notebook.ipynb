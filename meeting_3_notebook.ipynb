{
 "cells": [
  {
   "cell_type": "code",
   "execution_count": 2,
   "metadata": {},
   "outputs": [],
   "source": [
    "import tensorflow as tf\n",
    "from tensorflow.keras.datasets import mnist\n",
    "from tensorflow.keras.preprocessing.image import ImageDataGenerator\n",
    "import matplotlib.pyplot as plt\n",
    "import numpy as np\n",
    "\n",
    "from tensorflow.keras import layers, models"
   ]
  },
  {
   "cell_type": "code",
   "execution_count": 4,
   "metadata": {},
   "outputs": [
    {
     "name": "stdout",
     "output_type": "stream",
     "text": [
      "Downloading data from https://storage.googleapis.com/tensorflow/tf-keras-datasets/mnist.npz\n",
      "11490434/11490434 [==============================] - 0s 0us/step\n"
     ]
    }
   ],
   "source": [
    "# Load the MNIST dataset\n",
    "(x_train, y_train), (x_test, y_test) = mnist.load_data()"
   ]
  },
  {
   "cell_type": "code",
   "execution_count": 7,
   "metadata": {},
   "outputs": [
    {
     "name": "stdout",
     "output_type": "stream",
     "text": [
      "(60000, 28, 28)\n"
     ]
    }
   ],
   "source": [
    "print(x_train.shape)"
   ]
  },
  {
   "cell_type": "code",
   "execution_count": 113,
   "metadata": {},
   "outputs": [
    {
     "name": "stdout",
     "output_type": "stream",
     "text": [
      "1.0\n",
      "[[[0. 0. 0. ... 0. 0. 0.]\n",
      "  [0. 0. 0. ... 0. 0. 0.]\n",
      "  [0. 0. 0. ... 0. 0. 0.]\n",
      "  ...\n",
      "  [0. 0. 0. ... 0. 0. 0.]\n",
      "  [0. 0. 0. ... 0. 0. 0.]\n",
      "  [0. 0. 0. ... 0. 0. 0.]]\n",
      "\n",
      " [[0. 0. 0. ... 0. 0. 0.]\n",
      "  [0. 0. 0. ... 0. 0. 0.]\n",
      "  [0. 0. 0. ... 0. 0. 0.]\n",
      "  ...\n",
      "  [0. 0. 0. ... 0. 0. 0.]\n",
      "  [0. 0. 0. ... 0. 0. 0.]\n",
      "  [0. 0. 0. ... 0. 0. 0.]]\n",
      "\n",
      " [[0. 0. 0. ... 0. 0. 0.]\n",
      "  [0. 0. 0. ... 0. 0. 0.]\n",
      "  [0. 0. 0. ... 0. 0. 0.]\n",
      "  ...\n",
      "  [0. 0. 0. ... 0. 0. 0.]\n",
      "  [0. 0. 0. ... 0. 0. 0.]\n",
      "  [0. 0. 0. ... 0. 0. 0.]]\n",
      "\n",
      " ...\n",
      "\n",
      " [[0. 0. 0. ... 0. 0. 0.]\n",
      "  [0. 0. 0. ... 0. 0. 0.]\n",
      "  [0. 0. 0. ... 0. 0. 0.]\n",
      "  ...\n",
      "  [0. 0. 0. ... 0. 0. 0.]\n",
      "  [0. 0. 0. ... 0. 0. 0.]\n",
      "  [0. 0. 0. ... 0. 0. 0.]]\n",
      "\n",
      " [[0. 0. 0. ... 0. 0. 0.]\n",
      "  [0. 0. 0. ... 0. 0. 0.]\n",
      "  [0. 0. 0. ... 0. 0. 0.]\n",
      "  ...\n",
      "  [0. 0. 0. ... 0. 0. 0.]\n",
      "  [0. 0. 0. ... 0. 0. 0.]\n",
      "  [0. 0. 0. ... 0. 0. 0.]]\n",
      "\n",
      " [[0. 0. 0. ... 0. 0. 0.]\n",
      "  [0. 0. 0. ... 0. 0. 0.]\n",
      "  [0. 0. 0. ... 0. 0. 0.]\n",
      "  ...\n",
      "  [0. 0. 0. ... 0. 0. 0.]\n",
      "  [0. 0. 0. ... 0. 0. 0.]\n",
      "  [0. 0. 0. ... 0. 0. 0.]]]\n"
     ]
    }
   ],
   "source": [
    "x_train_normalized = x_train / 255\n",
    "print(np.max(x_train_normalized))\n",
    "print(x_train_normalized)\n",
    "\n",
    "x_test_normalized = x_test / 255\n"
   ]
  },
  {
   "cell_type": "code",
   "execution_count": 114,
   "metadata": {},
   "outputs": [
    {
     "name": "stdout",
     "output_type": "stream",
     "text": [
      "[[[0.42407389 0.42407389 0.42407389 ... 0.42407389 0.42407389 0.42407389]\n",
      "  [0.42407389 0.42407389 0.42407389 ... 0.42407389 0.42407389 0.42407389]\n",
      "  [0.42407389 0.42407389 0.42407389 ... 0.42407389 0.42407389 0.42407389]\n",
      "  ...\n",
      "  [0.42407389 0.42407389 0.42407389 ... 0.42407389 0.42407389 0.42407389]\n",
      "  [0.42407389 0.42407389 0.42407389 ... 0.42407389 0.42407389 0.42407389]\n",
      "  [0.42407389 0.42407389 0.42407389 ... 0.42407389 0.42407389 0.42407389]]\n",
      "\n",
      " [[0.42407389 0.42407389 0.42407389 ... 0.42407389 0.42407389 0.42407389]\n",
      "  [0.42407389 0.42407389 0.42407389 ... 0.42407389 0.42407389 0.42407389]\n",
      "  [0.42407389 0.42407389 0.42407389 ... 0.42407389 0.42407389 0.42407389]\n",
      "  ...\n",
      "  [0.42407389 0.42407389 0.42407389 ... 0.42407389 0.42407389 0.42407389]\n",
      "  [0.42407389 0.42407389 0.42407389 ... 0.42407389 0.42407389 0.42407389]\n",
      "  [0.42407389 0.42407389 0.42407389 ... 0.42407389 0.42407389 0.42407389]]\n",
      "\n",
      " [[0.42407389 0.42407389 0.42407389 ... 0.42407389 0.42407389 0.42407389]\n",
      "  [0.42407389 0.42407389 0.42407389 ... 0.42407389 0.42407389 0.42407389]\n",
      "  [0.42407389 0.42407389 0.42407389 ... 0.42407389 0.42407389 0.42407389]\n",
      "  ...\n",
      "  [0.42407389 0.42407389 0.42407389 ... 0.42407389 0.42407389 0.42407389]\n",
      "  [0.42407389 0.42407389 0.42407389 ... 0.42407389 0.42407389 0.42407389]\n",
      "  [0.42407389 0.42407389 0.42407389 ... 0.42407389 0.42407389 0.42407389]]\n",
      "\n",
      " ...\n",
      "\n",
      " [[0.42407389 0.42407389 0.42407389 ... 0.42407389 0.42407389 0.42407389]\n",
      "  [0.42407389 0.42407389 0.42407389 ... 0.42407389 0.42407389 0.42407389]\n",
      "  [0.42407389 0.42407389 0.42407389 ... 0.42407389 0.42407389 0.42407389]\n",
      "  ...\n",
      "  [0.42407389 0.42407389 0.42407389 ... 0.42407389 0.42407389 0.42407389]\n",
      "  [0.42407389 0.42407389 0.42407389 ... 0.42407389 0.42407389 0.42407389]\n",
      "  [0.42407389 0.42407389 0.42407389 ... 0.42407389 0.42407389 0.42407389]]\n",
      "\n",
      " [[0.42407389 0.42407389 0.42407389 ... 0.42407389 0.42407389 0.42407389]\n",
      "  [0.42407389 0.42407389 0.42407389 ... 0.42407389 0.42407389 0.42407389]\n",
      "  [0.42407389 0.42407389 0.42407389 ... 0.42407389 0.42407389 0.42407389]\n",
      "  ...\n",
      "  [0.42407389 0.42407389 0.42407389 ... 0.42407389 0.42407389 0.42407389]\n",
      "  [0.42407389 0.42407389 0.42407389 ... 0.42407389 0.42407389 0.42407389]\n",
      "  [0.42407389 0.42407389 0.42407389 ... 0.42407389 0.42407389 0.42407389]]\n",
      "\n",
      " [[0.42407389 0.42407389 0.42407389 ... 0.42407389 0.42407389 0.42407389]\n",
      "  [0.42407389 0.42407389 0.42407389 ... 0.42407389 0.42407389 0.42407389]\n",
      "  [0.42407389 0.42407389 0.42407389 ... 0.42407389 0.42407389 0.42407389]\n",
      "  ...\n",
      "  [0.42407389 0.42407389 0.42407389 ... 0.42407389 0.42407389 0.42407389]\n",
      "  [0.42407389 0.42407389 0.42407389 ... 0.42407389 0.42407389 0.42407389]\n",
      "  [0.42407389 0.42407389 0.42407389 ... 0.42407389 0.42407389 0.42407389]]]\n"
     ]
    }
   ],
   "source": [
    "mean = np.mean(x_train)\n",
    "std = np.std(x_train)\n",
    "x_train_standardized = np.abs(x_train - mean) / std\n",
    "print(x_train_standardized)"
   ]
  },
  {
   "cell_type": "code",
   "execution_count": 115,
   "metadata": {},
   "outputs": [
    {
     "data": {
      "text/plain": [
       "<matplotlib.image.AxesImage at 0x29bed8a5a50>"
      ]
     },
     "execution_count": 115,
     "metadata": {},
     "output_type": "execute_result"
    },
    {
     "data": {
      "image/png": "[encoded data removed]",
      "text/plain": [
       "<Figure size 432x288 with 1 Axes>"
      ]
     },
     "metadata": {
      "needs_background": "light"
     },
     "output_type": "display_data"
    }
   ],
   "source": [
    "#plt.plot(x_train[0])\n",
    "plt.imshow(x_train[3])\n"
   ]
  },
  {
   "cell_type": "code",
   "execution_count": 116,
   "metadata": {},
   "outputs": [
    {
     "data": {
      "text/plain": [
       "<matplotlib.image.AxesImage at 0x29bec05abd0>"
      ]
     },
     "execution_count": 116,
     "metadata": {},
     "output_type": "execute_result"
    },
    {
     "data": {
      "image/png": "[encoded data removed]",
      "text/plain": [
       "<Figure size 432x288 with 1 Axes>"
      ]
     },
     "metadata": {
      "needs_background": "light"
     },
     "output_type": "display_data"
    }
   ],
   "source": [
    "plt.imshow(x_train_normalized[3])"
   ]
  },
  {
   "cell_type": "code",
   "execution_count": 117,
   "metadata": {},
   "outputs": [
    {
     "data": {
      "text/plain": [
       "<matplotlib.image.AxesImage at 0x29be35c3f50>"
      ]
     },
     "execution_count": 117,
     "metadata": {},
     "output_type": "execute_result"
    },
    {
     "data": {
      "image/png": "[encoded data removed]",
      "text/plain": [
       "<Figure size 432x288 with 1 Axes>"
      ]
     },
     "metadata": {
      "needs_background": "light"
     },
     "output_type": "display_data"
    }
   ],
   "source": [
    "plt.imshow(x_train_standardized[3])"
   ]
  },
  {
   "cell_type": "code",
   "execution_count": null,
   "metadata": {},
   "outputs": [],
   "source": [
    "from keras.preprocessing.image import ImageDataGenerator\n",
    "\n",
    "# now here below we creating the object of the data augmentation class\n",
    "imageDataGen = ImageDataGenerator(rotation_range=20,\n",
    "    width_shift_range=0.2,\n",
    "    height_shift_range=0.2,\n",
    "    shear_range=0.2,\n",
    "    zoom_range=0.2,\n",
    "    horizontal_flip=True,\n",
    "    fill_mode='nearest')\n",
    "# because as we alreay load image into the memory, so we are using flow() function, to apply transformation\n",
    "#augmented_images = imageDataGen.flow(x_train_normalized[:1].reshape((1, 28, 28, 1)))\n",
    "augmented_images = imageDataGen.flow(x_train_normalized.reshape((-1, 28, 28, 1)), y_train, batch_size=1)"
   ]
  },
  {
   "cell_type": "code",
   "execution_count": 119,
   "metadata": {},
   "outputs": [],
   "source": [
    "#plt.figure(figsize=(8, 4))\n",
    "\n",
    "#for i in range(6):\n",
    "#    plt.subplot(2, 3, i+1)\n",
    "#    plt.imshow(augmented_images[0][0, :, :, 0], cmap='gray')\n",
    "#    plt.title(f\"Augmented {i+1}\")\n",
    "#    plt.axis('off')\n",
    "\n",
    "#plt.show()"
   ]
  },
  {
   "cell_type": "code",
   "execution_count": 120,
   "metadata": {},
   "outputs": [],
   "source": [
    "model = models.Sequential()\n",
    "model.add(layers.Conv2D(32, (3, 3), activation='relu', input_shape=(28, 28, 1)))\n",
    "model.add(layers.MaxPooling2D((2, 2)))\n",
    "model.add(layers.Conv2D(64, (3, 3), activation='relu'))\n",
    "model.add(layers.MaxPooling2D((2, 2)))\n",
    "model.add(layers.Conv2D(64, (3, 3), activation='relu'))\n",
    "model.add(layers.Flatten())\n",
    "model.add(layers.Dense(64, activation='relu'))\n",
    "model.add(layers.Dense(10, activation='softmax'))"
   ]
  },
  {
   "cell_type": "code",
   "execution_count": 121,
   "metadata": {},
   "outputs": [],
   "source": [
    "# Compile the model\n",
    "model.compile(optimizer='adam',\n",
    "              loss='sparse_categorical_crossentropy',\n",
    "              metrics=['accuracy'])"
   ]
  },
  {
   "cell_type": "code",
   "execution_count": 122,
   "metadata": {},
   "outputs": [
    {
     "name": "stdout",
     "output_type": "stream",
     "text": [
      "Epoch 1/5\n",
      "60000/60000 [==============================] - 75s 1ms/step - loss: 0.6540 - accuracy: 0.7820 - val_loss: 0.1691 - val_accuracy: 0.9502\n",
      "Epoch 2/5\n",
      "60000/60000 [==============================] - 73s 1ms/step - loss: 0.3500 - accuracy: 0.8953 - val_loss: 0.2321 - val_accuracy: 0.9463\n",
      "Epoch 3/5\n",
      "60000/60000 [==============================] - 79s 1ms/step - loss: 0.3253 - accuracy: 0.9051 - val_loss: 0.1567 - val_accuracy: 0.9627\n",
      "Epoch 4/5\n",
      "60000/60000 [==============================] - 77s 1ms/step - loss: 0.3170 - accuracy: 0.9091 - val_loss: 0.2360 - val_accuracy: 0.9584\n",
      "Epoch 5/5\n",
      "60000/60000 [==============================] - 83s 1ms/step - loss: 0.3134 - accuracy: 0.9126 - val_loss: 0.1654 - val_accuracy: 0.9660\n"
     ]
    },
    {
     "data": {
      "text/plain": [
       "<keras.src.callbacks.History at 0x29be35c2690>"
      ]
     },
     "execution_count": 122,
     "metadata": {},
     "output_type": "execute_result"
    }
   ],
   "source": [
    "# Train the model\n",
    "model.fit(augmented_images, epochs=5, validation_data=(x_test_normalized, y_test))  # You might need to adjust the number of epochs"
   ]
  }
 ],
 "metadata": {
  "kernelspec": {
   "display_name": "tf_env",
   "language": "python",
   "name": "python3"
  },
  "language_info": {
   "codemirror_mode": {
    "name": "ipython",
    "version": 3
   },
   "file_extension": ".py",
   "mimetype": "text/x-python",
   "name": "python",
   "nbconvert_exporter": "python",
   "pygments_lexer": "ipython3",
   "version": "3.11.7"
  }
 },
 "nbformat": 4,
 "nbformat_minor": 2
}
