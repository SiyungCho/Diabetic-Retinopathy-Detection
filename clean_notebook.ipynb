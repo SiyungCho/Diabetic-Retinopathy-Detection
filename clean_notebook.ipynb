{
 "cells": [
  {
   "cell_type": "markdown",
   "metadata": {},
   "source": [
    "<h1>Clean Notebook for QMIND Project</h1>\n",
    "<p>Contributors:\n",
    "<ul>\n",
    "<li>Karim Ali</li>\n",
    "<li>Ola Elmaghraby</li>\n",
    "<li>Aimee Langevin</li>\n",
    "<li>Ali Zidan</li>\n",
    "</ul>\n",
    "Project Manager: Frank Siyung Cho</p>"
   ]
  },
  {
   "cell_type": "code",
   "execution_count": 1,
   "metadata": {},
   "outputs": [],
   "source": [
    "import numpy as np\n",
    "import matplotlib.pyplot as plt\n",
    "import pandas as pd\n",
    "import seaborn as sns\n",
    "import tensorflow as tf\n",
    "import cv2\n",
    "import os\n",
    "import random\n",
    "from PIL import Image\n",
    "\n",
    "from tensorflow.keras.preprocessing import image\n",
    "from tensorflow.keras.preprocessing.image import ImageDataGenerator"
   ]
  },
  {
   "cell_type": "markdown",
   "metadata": {},
   "source": [
    "<h2>Data Preprocessing</h2>"
   ]
  },
  {
   "cell_type": "markdown",
   "metadata": {},
   "source": [
    "<p>First we will be displaying initial images in the dataset.<br>Special thanks to Ola who worked tirelessly on preprocessing and cropping images</p>"
   ]
  },
  {
   "cell_type": "code",
   "execution_count": 2,
   "metadata": {},
   "outputs": [],
   "source": [
    "root = 'C:/Users/siyun/OneDrive/Desktop/QMIND 2024/QMIND2024_Dataset/dataset_images'"
   ]
  },
  {
   "cell_type": "code",
   "execution_count": 3,
   "metadata": {},
   "outputs": [],
   "source": [
    "#function displays a random image in a given subdirectory\n",
    "def display_random_image_in_subdir(subdir_path):\n",
    "    if os.path.isdir(subdir_path):\n",
    "        all_files = os.listdir(subdir_path)\n",
    "\n",
    "        jpeg_files = [file for file in all_files if file.lower().endswith(('.jpg'))]\n",
    "\n",
    "        if jpeg_files: \n",
    "            random_jpeg = random.choice(jpeg_files) \n",
    "            random_jpeg_path = os.path.join(subdir_path, random_jpeg)\n",
    "\n",
    "            img = cv2.imread(random_jpeg_path)\n",
    "        \n",
    "            if img is not None:\n",
    "                img_resized = cv2.resize(img, (550,550))\n",
    "            \n",
    "                cv2.imshow('Random JPG Image in %s' %subdir_path, img_resized)\n",
    "                cv2.waitKey(0)\n",
    "                cv2.destroyAllWindows()\n",
    "        else:\n",
    "            print(\"No JPEG files found in the directory.\")"
   ]
  },
  {
   "cell_type": "code",
   "execution_count": 4,
   "metadata": {},
   "outputs": [],
   "source": [
    "#display_random_image_in_subdir(root)"
   ]
  },
  {
   "cell_type": "markdown",
   "metadata": {},
   "source": [
    "<p>Capture finalized labels</p>"
   ]
  },
  {
   "cell_type": "code",
   "execution_count": 5,
   "metadata": {},
   "outputs": [],
   "source": [
    "labels_df = pd.read_csv('C:/Users/siyun/OneDrive/Desktop/QMIND 2024/QMIND2024_Dataset/new_dataset.csv')\n",
    "\n",
    "#set column names\n",
    "labels_df.columns = ['image_path', 'label']"
   ]
  },
  {
   "cell_type": "code",
   "execution_count": 6,
   "metadata": {},
   "outputs": [
    {
     "name": "stdout",
     "output_type": "stream",
     "text": [
      "                                          image_path  label\n",
      "0  QMIND2024_Dataset/new_dataset_images/201704131...      0\n",
      "1  QMIND2024_Dataset/new_dataset_images/201704131...      0\n",
      "2  QMIND2024_Dataset/new_dataset_images/201704131...      0\n",
      "3  QMIND2024_Dataset/new_dataset_images/201704131...      0\n",
      "4  QMIND2024_Dataset/new_dataset_images/201704131...      0\n"
     ]
    }
   ],
   "source": [
    "print(labels_df.head())"
   ]
  },
  {
   "cell_type": "code",
   "execution_count": 7,
   "metadata": {},
   "outputs": [
    {
     "name": "stdout",
     "output_type": "stream",
     "text": [
      "label\n",
      "0    5442\n",
      "1    4005\n",
      "2     614\n",
      "Name: count, dtype: int64\n"
     ]
    }
   ],
   "source": [
    "unique_counts = labels_df['label'].value_counts()\n",
    "print(unique_counts)"
   ]
  },
  {
   "cell_type": "code",
   "execution_count": 8,
   "metadata": {},
   "outputs": [
    {
     "data": {
      "image/png": "[encoded data removed]",
      "text/plain": [
       "<Figure size 432x288 with 1 Axes>"
      ]
     },
     "metadata": {
      "needs_background": "light"
     },
     "output_type": "display_data"
    }
   ],
   "source": [
    "plt.bar('No DR' , unique_counts[0], label= 'No DR')\n",
    "plt.bar('Non Proliferative' , unique_counts[1], label = 'Non Proliferative')\n",
    "plt.bar('Proliferative' , unique_counts[2], label = 'Proliferative')\n",
    "plt.xlabel(\"Diagnosis\")\n",
    "plt.ylabel(\"No. of entries\")\n",
    "plt.title(\"Unique Counts\")\n",
    "plt.show()"
   ]
  },
  {
   "cell_type": "markdown",
   "metadata": {},
   "source": [
    "<p>Image Enhancement techniques</p>"
   ]
  },
  {
   "cell_type": "code",
   "execution_count": null,
   "metadata": {},
   "outputs": [],
   "source": [
    "image_files = os.listdir(root)\n",
    "x_train = [cv2.cvtColor(cv2.imread(os.path.join(root, file), cv2.IMREAD_COLOR), cv2.COLOR_BGR2RGB) for file in image_files]"
   ]
  },
  {
   "cell_type": "markdown",
   "metadata": {},
   "source": [
    "<p>Image Augmentation techniques</p>"
   ]
  },
  {
   "cell_type": "code",
   "execution_count": null,
   "metadata": {},
   "outputs": [],
   "source": [
    "Train_Generator = ImageDataGenerator(rescale=1./255,\n",
    "                                    zoom_range=0.1,\n",
    "                                    rotation_range=90,\n",
    "                                    horizontal_flip=True,\n",
    "                                    vertical_flip=True,\n",
    "                                    fill_mode=\"nearest\",\n",
    "                                    validation_split=0.1)"
   ]
  },
  {
   "cell_type": "code",
   "execution_count": null,
   "metadata": {},
   "outputs": [],
   "source": [
    "Train_IMG_Set = Train_Generator.flow_from_dataframe(dataframe=labels_df,\n",
    "                                                   x_col=\"filename\",\n",
    "                                                   y_col=\"label\",\n",
    "                                                   color_mode=\"rgb\",\n",
    "                                                   class_mode=\"raw\",\n",
    "                                                   batch_size = 50,\n",
    "                                                   subset=\"training\")"
   ]
  },
  {
   "cell_type": "code",
   "execution_count": null,
   "metadata": {},
   "outputs": [],
   "source": [
    "validation_IMG_Set = Train_Generator.flow_from_dataframe(dataframe=labels_df,\n",
    "                                                   x_col=\"filename\",\n",
    "                                                   y_col=\"label\",\n",
    "                                                   color_mode=\"rgb\",\n",
    "                                                   class_mode=\"raw\",\n",
    "                                                   batch_size = 50,\n",
    "                                                   subset=\"validation\")"
   ]
  },
  {
   "cell_type": "code",
   "execution_count": null,
   "metadata": {},
   "outputs": [],
   "source": [
    "total_train_images = Train_IMG_Set.n\n",
    "print(f\"Total number of training images: {total_train_images}\")\n",
    "\n",
    "total_validation_images = validation_IMG_Set.n\n",
    "print(f\"Total number of validation images: {total_validation_images}\")"
   ]
  },
  {
   "cell_type": "code",
   "execution_count": null,
   "metadata": {},
   "outputs": [],
   "source": [
    "for i, (images, labels) in enumerate(Train_IMG_Set):\n",
    "    print(f\"Batch {i}, Image batch shape: {images.shape}, Labels batch shape: {labels.shape}\")\n",
    "    if i == 1: \n",
    "        break"
   ]
  },
  {
   "cell_type": "code",
   "execution_count": null,
   "metadata": {},
   "outputs": [],
   "source": [
    "images, labels = next(Train_IMG_Set)\n",
    "print(len(images))\n",
    "\n",
    "for i in range(5): \n",
    "    plt.imshow(images[i])\n",
    "    plt.title(f\"Label: {labels[i]}\")\n",
    "    plt.show()"
   ]
  }
 ],
 "metadata": {
  "kernelspec": {
   "display_name": "tf_env",
   "language": "python",
   "name": "python3"
  },
  "language_info": {
   "codemirror_mode": {
    "name": "ipython",
    "version": 3
   },
   "file_extension": ".py",
   "mimetype": "text/x-python",
   "name": "python",
   "nbconvert_exporter": "python",
   "pygments_lexer": "ipython3",
   "version": "3.11.5"
  }
 },
 "nbformat": 4,
 "nbformat_minor": 2
}
