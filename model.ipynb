{
 "cells": [
  {
   "cell_type": "code",
   "execution_count": 1,
   "metadata": {},
   "outputs": [
    {
     "name": "stdout",
     "output_type": "stream",
     "text": [
      "WARNING:tensorflow:From c:\\Users\\Aimee Langevin\\anaconda3\\envs\\qmind\\Lib\\site-packages\\keras\\src\\losses.py:2976: The name tf.losses.sparse_softmax_cross_entropy is deprecated. Please use tf.compat.v1.losses.sparse_softmax_cross_entropy instead.\n",
      "\n"
     ]
    }
   ],
   "source": [
    "import pandas as pd\n",
    "import numpy as np\n",
    "import os\n",
    "import matplotlib.pyplot as plt\n",
    "from matplotlib.image import imread\n",
    "from keras.preprocessing.image import ImageDataGenerator\n",
    "from PIL import Image, ImageEnhance\n",
    "from sklearn.model_selection import train_test_split\n",
    "import cv2\n",
    "from tensorflow.keras.preprocessing.image import img_to_array, load_img\n",
    "from sklearn.preprocessing import LabelEncoder\n",
    "from tensorflow.keras import layers, models, optimizers"
   ]
  },
  {
   "cell_type": "code",
   "execution_count": 2,
   "metadata": {},
   "outputs": [],
   "source": [
    "label_path = 'C:/Users/Aimee Langevin/QMIND/Diabetic-Retinopathy-Detection/final_labels.txt'\n",
    "image_folder = 'C:/Users/Aimee Langevin/QMIND/Diabetic-Retinopathy-Detection/combined_sampled_images\\\\'"
   ]
  },
  {
   "cell_type": "code",
   "execution_count": 5,
   "metadata": {},
   "outputs": [],
   "source": [
    "path = 'C:/Users/Aimee Langevin/QMIND/Diabetic-Retinopathy-Detection/combined_sampled_images'\n",
    "\n",
    "images = []\n",
    "\n",
    "for file in os.listdir(path):\n",
    "    img_path = os.path.join(path, file)\n",
    "    images.append(img_path)"
   ]
  },
  {
   "cell_type": "code",
   "execution_count": 6,
   "metadata": {},
   "outputs": [],
   "source": [
    "lbls = []\n",
    "ip = []\n",
    "\n",
    "with open(label_path, \"r\") as file:\n",
    "    for line in file:\n",
    "        image_name, label = line.strip().split()\n",
    "        image_path = os.path.join(image_folder, image_name)\n",
    "        if image_path in images:\n",
    "            ip.append(image_path)\n",
    "            lbls.append(int(label))"
   ]
  },
  {
   "cell_type": "code",
   "execution_count": 7,
   "metadata": {},
   "outputs": [],
   "source": [
    "labels = []\n",
    "\n",
    "for label in lbls:\n",
    "    if label == 1 or label == 2 or label == 3:\n",
    "        label = 1\n",
    "    elif label == 4:\n",
    "        label = 2\n",
    "    else:\n",
    "        label = 0\n",
    "    labels.append(label)"
   ]
  },
  {
   "cell_type": "code",
   "execution_count": 8,
   "metadata": {},
   "outputs": [],
   "source": [
    "imgs = []\n",
    "\n",
    "for img in ip:\n",
    "    image = load_img(img, target_size=(224, 224))\n",
    "    img_array = img_to_array(image)\n",
    "    imgs.append(img_array)"
   ]
  },
  {
   "cell_type": "code",
   "execution_count": 9,
   "metadata": {},
   "outputs": [],
   "source": [
    "labels = np.array(labels)\n",
    "imgs = np.array(imgs)"
   ]
  },
  {
   "cell_type": "code",
   "execution_count": 11,
   "metadata": {},
   "outputs": [
    {
     "name": "stdout",
     "output_type": "stream",
     "text": [
      "Epoch 1/10\n",
      "9/9 [==============================] - 121s 10s/step - loss: 513.0325 - accuracy: 0.3670 - val_loss: 16.6786 - val_accuracy: 0.2333\n",
      "Epoch 2/10\n",
      "9/9 [==============================] - 94s 11s/step - loss: 6.8822 - accuracy: 0.3333 - val_loss: 2.1177 - val_accuracy: 0.4000\n",
      "Epoch 3/10\n",
      "9/9 [==============================] - 131s 15s/step - loss: 1.2240 - accuracy: 0.4232 - val_loss: 1.1168 - val_accuracy: 0.2667\n",
      "Epoch 4/10\n",
      "9/9 [==============================] - 126s 13s/step - loss: 1.0720 - accuracy: 0.3933 - val_loss: 1.2771 - val_accuracy: 0.2667\n",
      "Epoch 5/10\n",
      "9/9 [==============================] - 116s 13s/step - loss: 1.0757 - accuracy: 0.4831 - val_loss: 1.0852 - val_accuracy: 0.3000\n",
      "Epoch 6/10\n",
      "9/9 [==============================] - 100s 11s/step - loss: 1.0361 - accuracy: 0.4494 - val_loss: 1.1925 - val_accuracy: 0.4667\n",
      "Epoch 7/10\n",
      "9/9 [==============================] - 102s 11s/step - loss: 0.9406 - accuracy: 0.5655 - val_loss: 1.1501 - val_accuracy: 0.4000\n",
      "Epoch 8/10\n",
      "9/9 [==============================] - 96s 11s/step - loss: 0.9269 - accuracy: 0.5768 - val_loss: 1.0233 - val_accuracy: 0.4000\n",
      "Epoch 9/10\n",
      "9/9 [==============================] - 93s 10s/step - loss: 0.9099 - accuracy: 0.5655 - val_loss: 1.1042 - val_accuracy: 0.4000\n",
      "Epoch 10/10\n",
      "9/9 [==============================] - 92s 10s/step - loss: 0.8283 - accuracy: 0.6030 - val_loss: 1.0287 - val_accuracy: 0.4667\n"
     ]
    },
    {
     "data": {
      "text/plain": [
       "<keras.src.callbacks.History at 0x239574aa490>"
      ]
     },
     "execution_count": 11,
     "metadata": {},
     "output_type": "execute_result"
    }
   ],
   "source": [
    "X_train, X_test, y_train, y_test = train_test_split(imgs, labels, test_size=0.1, random_state=123)\n",
    "\n",
    "model = models.Sequential()\n",
    "model.add(layers.Conv2D(32, (3, 3), activation='relu', input_shape=(224, 224, 3)))\n",
    "model.add(layers.MaxPooling2D((2, 2)))\n",
    "model.add(layers.Conv2D(64, (3, 3), activation='relu'))\n",
    "model.add(layers.MaxPooling2D((2, 2)))\n",
    "model.add(layers.Conv2D(128, (3, 3), activation='relu'))\n",
    "model.add(layers.MaxPooling2D((2, 2)))\n",
    "model.add(layers.Flatten())\n",
    "model.add(layers.Dense(128, activation='relu'))\n",
    "model.add(layers.Dense(3, activation='softmax'))\n",
    "\n",
    "# Compile the model\n",
    "model.compile(optimizer='adam', loss='sparse_categorical_crossentropy', metrics=['accuracy'])\n",
    "\n",
    "# Train the model\n",
    "model.fit(X_train, y_train, epochs=10, batch_size=32, validation_data=(X_test, y_test))"
   ]
  }
 ],
 "metadata": {
  "language_info": {
   "name": "python"
  }
 },
 "nbformat": 4,
 "nbformat_minor": 2
}
