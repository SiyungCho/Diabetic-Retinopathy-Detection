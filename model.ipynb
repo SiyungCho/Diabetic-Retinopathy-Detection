{
 "cells": [
  {
   "cell_type": "code",
   "execution_count": 1,
   "metadata": {},
   "outputs": [
    {
     "name": "stdout",
     "output_type": "stream",
     "text": [
      "WARNING:tensorflow:From c:\\Users\\Aimee Langevin\\anaconda3\\envs\\qmind\\Lib\\site-packages\\keras\\src\\losses.py:2976: The name tf.losses.sparse_softmax_cross_entropy is deprecated. Please use tf.compat.v1.losses.sparse_softmax_cross_entropy instead.\n",
      "\n"
     ]
    }
   ],
   "source": [
    "import pandas as pd\n",
    "import numpy as np\n",
    "import os\n",
    "import matplotlib.pyplot as plt\n",
    "from matplotlib.image import imread\n",
    "from keras.preprocessing.image import ImageDataGenerator\n",
    "from PIL import Image, ImageEnhance\n",
    "from sklearn.model_selection import train_test_split\n",
    "import cv2\n",
    "from tensorflow.keras.preprocessing.image import img_to_array, load_img\n",
    "from sklearn.preprocessing import LabelEncoder\n",
    "from tensorflow.keras import layers, models, optimizers"
   ]
  },
  {
   "cell_type": "code",
   "execution_count": 7,
   "metadata": {},
   "outputs": [],
   "source": [
    "labels = pd.read_csv('C:/Users/Aimee Langevin/QMIND/Diabetic-Retinopathy-Detection/sampled_dataset.csv')\n",
    "#image_folder = 'C:/Users/Aimee Langevin/QMIND/Diabetic-Retinopathy-Detection/combined_sampled_images'"
   ]
  },
  {
   "cell_type": "code",
   "execution_count": 3,
   "metadata": {},
   "outputs": [],
   "source": [
    "path = 'C:/Users/Aimee Langevin/QMIND/Diabetic-Retinopathy-Detection/combined_sampled_images'\n",
    "\n",
    "images = []\n",
    "\n",
    "for file in os.listdir(path):\n",
    "    img_path = os.path.join(path, file)\n",
    "    images.append(img_path)"
   ]
  },
  {
   "cell_type": "code",
   "execution_count": 6,
   "metadata": {},
   "outputs": [],
   "source": [
    "Train_Generator = ImageDataGenerator(rescale=1./255,\n",
    "                                    zoom_range=0.1,\n",
    "                                    rotation_range=90,\n",
    "                                    horizontal_flip=True,\n",
    "                                    vertical_flip=True,\n",
    "                                    fill_mode=\"nearest\",\n",
    "                                    validation_split=0.1)"
   ]
  },
  {
   "cell_type": "code",
   "execution_count": 8,
   "metadata": {},
   "outputs": [
    {
     "name": "stdout",
     "output_type": "stream",
     "text": [
      "Found 270 validated image filenames.\n"
     ]
    }
   ],
   "source": [
    "Train_IMG_Set = Train_Generator.flow_from_dataframe(dataframe=labels,\n",
    "                                                   x_col=\"filename\",\n",
    "                                                   y_col=\"label\",\n",
    "                                                   color_mode=\"grayscale\",\n",
    "                                                   class_mode=\"raw\",\n",
    "                                                   batch_size = 50,\n",
    "                                                   subset=\"training\")"
   ]
  },
  {
   "cell_type": "code",
   "execution_count": 10,
   "metadata": {},
   "outputs": [
    {
     "name": "stdout",
     "output_type": "stream",
     "text": [
      "Found 30 validated image filenames.\n"
     ]
    }
   ],
   "source": [
    "validation_IMG_Set = Train_Generator.flow_from_dataframe(dataframe=labels,\n",
    "                                                   x_col=\"filename\",\n",
    "                                                   y_col=\"label\",\n",
    "                                                   color_mode=\"grayscale\",\n",
    "                                                   class_mode=\"raw\",\n",
    "                                                   batch_size = 50,\n",
    "                                                   subset=\"validation\")"
   ]
  },
  {
   "cell_type": "code",
   "execution_count": 22,
   "metadata": {},
   "outputs": [
    {
     "name": "stdout",
     "output_type": "stream",
     "text": [
      "Epoch 1/20\n",
      "6/6 [==============================] - 127s 14s/step - loss: 8.5345 - accuracy: 0.3185 - val_loss: 2.8080 - val_accuracy: 0.0000e+00\n",
      "Epoch 2/20\n",
      "6/6 [==============================] - 54s 8s/step - loss: 9.2906 - accuracy: 0.3111 - val_loss: 2.8250 - val_accuracy: 0.0667\n",
      "Epoch 3/20\n",
      "6/6 [==============================] - 69s 12s/step - loss: 9.0186 - accuracy: 0.3741 - val_loss: 17.1131 - val_accuracy: 0.1000\n",
      "Epoch 4/20\n",
      "6/6 [==============================] - 59s 9s/step - loss: 7.0893 - accuracy: 0.4074 - val_loss: 3.7266 - val_accuracy: 0.2333\n",
      "Epoch 5/20\n",
      "6/6 [==============================] - 62s 10s/step - loss: 6.7588 - accuracy: 0.3185 - val_loss: 1.7398 - val_accuracy: 0.3000\n",
      "Epoch 6/20\n",
      "6/6 [==============================] - 59s 10s/step - loss: 5.5575 - accuracy: 0.3185 - val_loss: 3.5716 - val_accuracy: 0.0333\n",
      "Epoch 7/20\n",
      "6/6 [==============================] - 63s 11s/step - loss: 5.2377 - accuracy: 0.3519 - val_loss: 3.7729 - val_accuracy: 0.0667\n",
      "Epoch 8/20\n",
      "6/6 [==============================] - 53s 9s/step - loss: 4.2936 - accuracy: 0.3741 - val_loss: 4.4746 - val_accuracy: 0.1333\n",
      "Epoch 9/20\n",
      "6/6 [==============================] - 52s 8s/step - loss: 4.3341 - accuracy: 0.3333 - val_loss: 3.7722 - val_accuracy: 0.0000e+00\n",
      "Epoch 10/20\n",
      "6/6 [==============================] - 52s 8s/step - loss: 3.4381 - accuracy: 0.3741 - val_loss: 4.4994 - val_accuracy: 0.0000e+00\n",
      "Epoch 11/20\n",
      "6/6 [==============================] - 50s 9s/step - loss: 2.8323 - accuracy: 0.3630 - val_loss: 2.3994 - val_accuracy: 0.0000e+00\n",
      "Epoch 12/20\n",
      "6/6 [==============================] - 51s 8s/step - loss: 2.6811 - accuracy: 0.3815 - val_loss: 2.0478 - val_accuracy: 0.0000e+00\n",
      "Epoch 13/20\n",
      "6/6 [==============================] - 53s 10s/step - loss: 2.3590 - accuracy: 0.3741 - val_loss: 5.1548 - val_accuracy: 0.0000e+00\n",
      "Epoch 14/20\n",
      "6/6 [==============================] - 54s 9s/step - loss: 2.0009 - accuracy: 0.3926 - val_loss: 5.1466 - val_accuracy: 0.0000e+00\n",
      "Epoch 15/20\n",
      "6/6 [==============================] - 52s 8s/step - loss: 2.0612 - accuracy: 0.3852 - val_loss: 5.3161 - val_accuracy: 0.0000e+00\n",
      "Epoch 16/20\n",
      "6/6 [==============================] - 49s 9s/step - loss: 1.8060 - accuracy: 0.3519 - val_loss: 5.2425 - val_accuracy: 0.0000e+00\n",
      "Epoch 17/20\n",
      "6/6 [==============================] - 52s 8s/step - loss: 1.5712 - accuracy: 0.3926 - val_loss: 5.0347 - val_accuracy: 0.0000e+00\n",
      "Epoch 18/20\n",
      "6/6 [==============================] - 50s 8s/step - loss: 1.4194 - accuracy: 0.4037 - val_loss: 4.5473 - val_accuracy: 0.0000e+00\n",
      "Epoch 19/20\n",
      "6/6 [==============================] - 49s 8s/step - loss: 1.3266 - accuracy: 0.3333 - val_loss: 4.6926 - val_accuracy: 0.0000e+00\n",
      "Epoch 20/20\n",
      "6/6 [==============================] - 54s 9s/step - loss: 1.1971 - accuracy: 0.3667 - val_loss: 5.0234 - val_accuracy: 0.0000e+00\n"
     ]
    },
    {
     "data": {
      "text/plain": [
       "<keras.src.callbacks.History at 0x1613727e990>"
      ]
     },
     "execution_count": 22,
     "metadata": {},
     "output_type": "execute_result"
    }
   ],
   "source": [
    "#X_train, X_test, y_train, y_test = train_test_split(imgs, labels, test_size=0.1, random_state=123)\n",
    "\n",
    "model = models.Sequential()\n",
    "model.add(layers.Conv2D(32, (3, 3), activation='relu', input_shape=(256, 256, 1)))\n",
    "model.add(layers.BatchNormalization())\n",
    "model.add(layers.MaxPooling2D((2, 2)))\n",
    "\n",
    "model.add(layers.Conv2D(64, (3, 3), activation='relu'))\n",
    "model.add(layers.BatchNormalization())\n",
    "model.add(layers.MaxPooling2D((2, 2)))\n",
    "\n",
    "model.add(layers.Conv2D(128, (3, 3), activation='relu'))\n",
    "model.add(layers.BatchNormalization())\n",
    "model.add(layers.MaxPooling2D((2, 2)))\n",
    "\n",
    "model.add(layers.Conv2D(256, (3, 3), activation='relu'))\n",
    "model.add(layers.BatchNormalization())\n",
    "model.add(layers.MaxPooling2D((2, 2)))\n",
    "\n",
    "model.add(layers.Conv2D(512, (3, 3), activation='relu'))\n",
    "model.add(layers.BatchNormalization())\n",
    "model.add(layers.MaxPooling2D((2, 2)))\n",
    "\n",
    "model.add(layers.Flatten())\n",
    "model.add(layers.Dense(512, activation='relu'))\n",
    "model.add(layers.Dropout(0.5))\n",
    "model.add(layers.Dense(256, activation='relu'))\n",
    "model.add(layers.Dropout(0.5))\n",
    "model.add(layers.Dense(3, activation='softmax'))\n",
    "\n",
    "# Compile the model\n",
    "model.compile(optimizer='adam', loss='sparse_categorical_crossentropy', metrics=['accuracy'])\n",
    "\n",
    "# Train the model\n",
    "model.fit(Train_IMG_Set, epochs=20, batch_size=32, validation_data=validation_IMG_Set)"
   ]
  }
 ],
 "metadata": {
  "kernelspec": {
   "display_name": "qmind",
   "language": "python",
   "name": "python3"
  },
  "language_info": {
   "codemirror_mode": {
    "name": "ipython",
    "version": 3
   },
   "file_extension": ".py",
   "mimetype": "text/x-python",
   "name": "python",
   "nbconvert_exporter": "python",
   "pygments_lexer": "ipython3",
   "version": "3.11.5"
  }
 },
 "nbformat": 4,
 "nbformat_minor": 2
}
